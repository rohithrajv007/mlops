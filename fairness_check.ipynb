{
 "cells": [
  {
   "cell_type": "code",
   "execution_count": 3,
   "id": "e4e92e18",
   "metadata": {},
   "outputs": [],
   "source": [
    "import pandas as pd\n",
    "import numpy as np\n",
    "from sklearn.model_selection import train_test_split\n",
    "from sklearn.preprocessing import LabelEncoder, StandardScaler\n",
    "from sklearn.linear_model import LogisticRegression\n",
    "from sklearn.metrics import accuracy_score, recall_score\n",
    "import matplotlib.pyplot as plt\n",
    "import seaborn as sns\n",
    "from fairlearn.metrics import MetricFrame, selection_rate, demographic_parity_difference, equalized_odds_difference\n",
    "from fairlearn.postprocessing import ThresholdOptimizer"
   ]
  },
  {
   "cell_type": "code",
   "execution_count": 5,
   "id": "ed792b73",
   "metadata": {},
   "outputs": [
    {
     "name": "stderr",
     "output_type": "stream",
     "text": [
      "<>:7: SyntaxWarning: invalid escape sequence '\\s'\n",
      "<>:7: SyntaxWarning: invalid escape sequence '\\s'\n",
      "C:\\Users\\rajro\\AppData\\Local\\Temp\\ipykernel_14408\\2602640992.py:7: SyntaxWarning: invalid escape sequence '\\s'\n",
      "  data = pd.read_csv(url, names=column_names, sep=\",\\s*\", engine=\"python\")\n"
     ]
    }
   ],
   "source": [
    "url = \"https://archive.ics.uci.edu/ml/machine-learning-databases/adult/adult.data\"\n",
    "column_names = [\n",
    "    'age', 'workclass', 'fnlwgt', 'education', 'education-num', 'marital-status',\n",
    "    'occupation', 'relationship', 'race', 'sex', 'capital-gain', 'capital-loss',\n",
    "    'hours-per-week', 'native-country', 'income'\n",
    "]\n",
    "data = pd.read_csv(url, names=column_names, sep=\",\\s*\", engine=\"python\")"
   ]
  },
  {
   "cell_type": "code",
   "execution_count": null,
   "id": "8b6ef4c2",
   "metadata": {},
   "outputs": [],
   "source": [
    "data.replace('?', np.nan, inplace=True)\n",
    "data.dropna(inplace=True)\n",
    "\n",
    "# Label encode categorical features\n",
    "categorical_cols = data.select_dtypes(include='object').columns\n",
    "le = LabelEncoder()\n",
    "for col in categorical_cols:\n",
    "    data[col] = le.fit_transform(data[col])\n",
    "\n",
    "X = data.drop(\"income\", axis=1)\n",
    "y = data[\"income\"]  \n",
    "\n",
    "\n",
    "scaler = StandardScaler()\n",
    "X_scaled = scaler.fit_transform(X)\n"
   ]
  },
  {
   "cell_type": "code",
   "execution_count": null,
   "id": "8f425737",
   "metadata": {},
   "outputs": [
    {
     "name": "stdout",
     "output_type": "stream",
     "text": [
      "Accuracy: 0.8172173720853133\n",
      "Recall: 0.4480461811722913\n"
     ]
    }
   ],
   "source": [
    "\n",
    "X_train, X_test, y_train, y_test = train_test_split(\n",
    "    X_scaled, y, test_size=0.3, random_state=42, stratify=y\n",
    ")\n",
    "\n",
    "\n",
    "clf = LogisticRegression(max_iter=1000)\n",
    "clf.fit(X_train, y_train)\n",
    "y_pred = clf.predict(X_test)\n",
    "\n",
    "print(\"Accuracy:\", accuracy_score(y_test, y_pred))\n",
    "print(\"Recall:\", recall_score(y_test, y_pred))"
   ]
  },
  {
   "cell_type": "code",
   "execution_count": 8,
   "id": "d659065f",
   "metadata": {},
   "outputs": [
    {
     "name": "stdout",
     "output_type": "stream",
     "text": [
      "\n",
      "Fairness Metrics by Group (Sex):\n",
      "                     accuracy    recall  selection_rate\n",
      "sensitive_feature_0                                    \n",
      "0                    0.790950  0.470776        0.192459\n",
      "1                    0.832403  0.431732        0.136379\n",
      "\n",
      "Demographic Parity Difference: 0.05607903111339785\n",
      "Equalized Odds Difference: 0.0390442677872429\n"
     ]
    },
    {
     "name": "stderr",
     "output_type": "stream",
     "text": [
      "c:\\Users\\rajro\\AppData\\Local\\Programs\\Python\\Python312\\Lib\\site-packages\\sklearn\\base.py:486: UserWarning: X has feature names, but LogisticRegression was fitted without feature names\n",
      "  warnings.warn(\n",
      "c:\\Users\\rajro\\AppData\\Local\\Programs\\Python\\Python312\\Lib\\site-packages\\sklearn\\base.py:486: UserWarning: X has feature names, but LogisticRegression was fitted without feature names\n",
      "  warnings.warn(\n"
     ]
    },
    {
     "name": "stdout",
     "output_type": "stream",
     "text": [
      "\n",
      "Post-Mitigation Fairness Metrics by Group (Sex):\n",
      "                     accuracy    recall  selection_rate\n",
      "sensitive_feature_0                                    \n",
      "0                    0.787330  0.399575        0.155656\n",
      "1                    0.832054  0.469108        0.153819\n"
     ]
    }
   ],
   "source": [
    "# Step 3: Fairness Audit\n",
    "sensitive_feature_name = \"sex\"\n",
    "sensitive_features = X.iloc[X_test.argmax(axis=1)][sensitive_feature_name].values\n",
    "\n",
    "metrics = {\n",
    "    \"accuracy\": accuracy_score,\n",
    "    \"recall\": recall_score,\n",
    "    \"selection_rate\": selection_rate\n",
    "}\n",
    "\n",
    "frame = MetricFrame(metrics=metrics, y_true=y_test, y_pred=y_pred, sensitive_features=sensitive_features)\n",
    "print(\"\\nFairness Metrics by Group (Sex):\")\n",
    "print(frame.by_group)\n",
    "\n",
    "# Fairness differences\n",
    "print(\"\\nDemographic Parity Difference:\", demographic_parity_difference(y_test, y_pred, sensitive_features=sensitive_features))\n",
    "print(\"Equalized Odds Difference:\", equalized_odds_difference(y_test, y_pred, sensitive_features=sensitive_features))\n",
    "\n",
    "# Step 4: Apply Bias Mitigation (Post-processing)\n",
    "clf = LogisticRegression(solver='liblinear')\n",
    "clf.fit(X_train, y_train)\n",
    "\n",
    "thresh_opt = ThresholdOptimizer(\n",
    "    estimator=clf,\n",
    "    constraints=\"demographic_parity\",\n",
    "    prefit=True\n",
    ")\n",
    "\n",
    "X_test_df = pd.DataFrame(X_test, columns=X.columns)\n",
    "X_test_df_sensitive = X.iloc[X_test.argmax(axis=1)][sensitive_feature_name].values\n",
    "\n",
    "thresh_opt.fit(X_test_df, y_test, sensitive_features=X_test_df_sensitive)\n",
    "y_pred_fair = thresh_opt.predict(X_test_df, sensitive_features=X_test_df_sensitive)\n",
    "\n",
    "# Evaluate mitigated predictions\n",
    "fair_frame = MetricFrame(metrics=metrics, y_true=y_test, y_pred=y_pred_fair, sensitive_features=X_test_df_sensitive)\n",
    "print(\"\\nPost-Mitigation Fairness Metrics by Group (Sex):\")\n",
    "print(fair_frame.by_group)"
   ]
  }
 ],
 "metadata": {
  "kernelspec": {
   "display_name": "Python 3",
   "language": "python",
   "name": "python3"
  },
  "language_info": {
   "codemirror_mode": {
    "name": "ipython",
    "version": 3
   },
   "file_extension": ".py",
   "mimetype": "text/x-python",
   "name": "python",
   "nbconvert_exporter": "python",
   "pygments_lexer": "ipython3",
   "version": "3.12.1"
  }
 },
 "nbformat": 4,
 "nbformat_minor": 5
}
